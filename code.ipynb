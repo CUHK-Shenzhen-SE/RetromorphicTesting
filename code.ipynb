{
 "cells": [
  {
   "cell_type": "markdown",
   "metadata": {},
   "source": [
    "# Section 2: Bug in `discrete_fourier_transform`\n",
    "\n",
    "The `discrete_fourier_transform` function below is affected by a bug. Subsequently, we implement a unit test, Differential Testing, Metamorphic Testing, and Retromorphic Testing to identify the bug."
   ]
  },
  {
   "cell_type": "code",
   "execution_count": 4,
   "metadata": {},
   "outputs": [],
   "source": [
    "import numpy as np\n",
    "\n",
    "def discrete_fourier_transform(sequence, opt = 1):\n",
    "    N = len (sequence)\n",
    "    sequence_new = [0 for _ in range ( N )]\n",
    "    for k in range (N):\n",
    "        for n in range (N):\n",
    "            sequence_new [k] += sequence [n] * np.exp (opt * -1j * np.pi / N * k * n) # Bug: should be -2j\n",
    "    if(opt == -1):\n",
    "        for i in range(len(sequence_new)):\n",
    "            sequence_new[i] = sequence_new[i] / N\n",
    "    return sequence_new"
   ]
  },
  {
   "cell_type": "markdown",
   "metadata": {},
   "source": [
    "## Listing 1: Unit Testing\n",
    "\n",
    "A manually-written unit test case could identify the bug. However, since writing test cases manually incurs significant time and effort, we subsequently consider automated approaches."
   ]
  },
  {
   "cell_type": "code",
   "execution_count": 5,
   "metadata": {},
   "outputs": [
    {
     "ename": "AssertionError",
     "evalue": "",
     "output_type": "error",
     "traceback": [
      "\u001b[1;31m---------------------------------------------------------------------------\u001b[0m",
      "\u001b[1;31mAssertionError\u001b[0m                            Traceback (most recent call last)",
      "\u001b[1;32mc:\\Users\\MSI-NB\\Desktop\\retrotest\\code.ipynb Cell 4\u001b[0m line \u001b[0;36m4\n\u001b[0;32m      <a href='vscode-notebook-cell:/c%3A/Users/MSI-NB/Desktop/retrotest/code.ipynb#W3sZmlsZQ%3D%3D?line=1'>2</a>\u001b[0m frequency_sequence \u001b[39m=\u001b[39m discrete_fourier_transform(time_sequence)\n\u001b[0;32m      <a href='vscode-notebook-cell:/c%3A/Users/MSI-NB/Desktop/retrotest/code.ipynb#W3sZmlsZQ%3D%3D?line=2'>3</a>\u001b[0m frequency_sequence \u001b[39m=\u001b[39m [\u001b[39mint\u001b[39m(_\u001b[39m.\u001b[39mreal) \u001b[39mfor\u001b[39;00m _ \u001b[39min\u001b[39;00m frequency_sequence]\n\u001b[1;32m----> <a href='vscode-notebook-cell:/c%3A/Users/MSI-NB/Desktop/retrotest/code.ipynb#W3sZmlsZQ%3D%3D?line=3'>4</a>\u001b[0m \u001b[39massert\u001b[39;00m frequency_sequence \u001b[39m==\u001b[39m [\u001b[39m2\u001b[39m , \u001b[39m0\u001b[39m , \u001b[39m2\u001b[39m , \u001b[39m0\u001b[39m]\n",
      "\u001b[1;31mAssertionError\u001b[0m: "
     ]
    }
   ],
   "source": [
    "time_sequence = [2 , 0 , 1 , 0]\n",
    "frequency_sequence = discrete_fourier_transform(time_sequence)\n",
    "frequency_sequence = [int(_.real) for _ in frequency_sequence]\n",
    "assert frequency_sequence == [2 , 0 , 2 , 0]"
   ]
  },
  {
   "cell_type": "markdown",
   "metadata": {},
   "source": [
    "## Listing 2: Differential Testing\n",
    "\n",
    "To realize a Differential Testing approach, we require multiple components that produce the same output for the given input. Below, we assume the existence of alternative transformation function, whose output we can compare."
   ]
  },
  {
   "cell_type": "code",
   "execution_count": 6,
   "metadata": {},
   "outputs": [],
   "source": [
    "import random \n",
    "\n",
    "def get_random_sequence(len = 4):\n",
    "    return [2, 0, 2, 1]\n",
    "    '''\n",
    "    sequence = [random.random() for _ in range(len)]\n",
    "    return sequence\n",
    "    '''\n",
    "def fast_fourier_transform(sequence, opt = 1):\n",
    "    N = len(sequence)\n",
    "    if N <= 1:\n",
    "        return sequence\n",
    "    even = fast_fourier_transform(sequence[0::2])\n",
    "    odd = fast_fourier_transform(sequence[1::2])\n",
    "    T = [np.exp(opt * -2j * np.pi * k / N) * odd[k] for k in range(N // 2)]\n",
    "    return [even[k] + T[k] for k in range(N // 2)] + [even[k] - T[k] for k in range(N // 2)]\n",
    "\n"
   ]
  },
  {
   "cell_type": "markdown",
   "metadata": {},
   "source": [
    "By checking whether the frequency sequence are equal, we can identify the bug in the `discrete_fourier_transform` implementation."
   ]
  },
  {
   "cell_type": "code",
   "execution_count": 7,
   "metadata": {},
   "outputs": [
    {
     "ename": "AssertionError",
     "evalue": "",
     "output_type": "error",
     "traceback": [
      "\u001b[1;31m---------------------------------------------------------------------------\u001b[0m",
      "\u001b[1;31mAssertionError\u001b[0m                            Traceback (most recent call last)",
      "\u001b[1;32mc:\\Users\\MSI-NB\\Desktop\\retrotest\\code.ipynb Cell 8\u001b[0m line \u001b[0;36m8\n\u001b[0;32m      <a href='vscode-notebook-cell:/c%3A/Users/MSI-NB/Desktop/retrotest/code.ipynb#X10sZmlsZQ%3D%3D?line=5'>6</a>\u001b[0m frequency_sequences \u001b[39m=\u001b[39m [[_\u001b[39m.\u001b[39mreal \u001b[39mfor\u001b[39;00m _ \u001b[39min\u001b[39;00m frequency_sequence] \u001b[39mfor\u001b[39;00m frequency_sequence \u001b[39min\u001b[39;00m frequency_sequences]\n\u001b[0;32m      <a href='vscode-notebook-cell:/c%3A/Users/MSI-NB/Desktop/retrotest/code.ipynb#X10sZmlsZQ%3D%3D?line=6'>7</a>\u001b[0m all_same \u001b[39m=\u001b[39m \u001b[39mall\u001b[39m(\u001b[39mall\u001b[39m(\u001b[39mabs\u001b[39m(frequency_sequence[i] \u001b[39m-\u001b[39m frequency_sequences[\u001b[39m0\u001b[39m][i]) \u001b[39m<\u001b[39m eps \u001b[39mfor\u001b[39;00m i \u001b[39min\u001b[39;00m \u001b[39mrange\u001b[39m(\u001b[39mlen\u001b[39m(frequency_sequence))) \u001b[39mfor\u001b[39;00m frequency_sequence \u001b[39min\u001b[39;00m frequency_sequences)\n\u001b[1;32m----> <a href='vscode-notebook-cell:/c%3A/Users/MSI-NB/Desktop/retrotest/code.ipynb#X10sZmlsZQ%3D%3D?line=7'>8</a>\u001b[0m \u001b[39massert\u001b[39;00m all_same\n",
      "\u001b[1;31mAssertionError\u001b[0m: "
     ]
    }
   ],
   "source": [
    "eps = 1e-10\n",
    "transform_algorithms = [discrete_fourier_transform, fast_fourier_transform]\n",
    "while True :\n",
    "    time_sequence = get_random_sequence()\n",
    "    frequency_sequences = [alg(time_sequence.copy()) for alg in transform_algorithms]\n",
    "    frequency_sequences = [[_.real for _ in frequency_sequence] for frequency_sequence in frequency_sequences]\n",
    "    all_same = all(all(abs(frequency_sequence[i] - frequency_sequences[0][i]) < eps for i in range(len(frequency_sequence))) for frequency_sequence in frequency_sequences)\n",
    "    assert all_same"
   ]
  },
  {
   "cell_type": "markdown",
   "metadata": {},
   "source": [
    "# Listing 3: Metamorphic Testing\n",
    "\n",
    "The core idea of Metamorphic Testing is to generate a follow-up test case whose output we can infer based on the original test case's output. To test our `discrete_fourier_transform` implementation, we check whether the relative difference is maintained when a constant is added to the first element in time sequence. However, this metamorphic testing approach failed to find this bug."
   ]
  },
  {
   "cell_type": "code",
   "execution_count": 8,
   "metadata": {},
   "outputs": [
    {
     "ename": "KeyboardInterrupt",
     "evalue": "",
     "output_type": "error",
     "traceback": [
      "\u001b[1;31m---------------------------------------------------------------------------\u001b[0m",
      "\u001b[1;31mKeyboardInterrupt\u001b[0m                         Traceback (most recent call last)",
      "\u001b[1;32mc:\\Users\\MSI-NB\\Desktop\\retrotest\\code.ipynb Cell 10\u001b[0m line \u001b[0;36m7\n\u001b[0;32m      <a href='vscode-notebook-cell:/c%3A/Users/MSI-NB/Desktop/retrotest/code.ipynb#X12sZmlsZQ%3D%3D?line=4'>5</a>\u001b[0m c \u001b[39m=\u001b[39m random\u001b[39m.\u001b[39mrandom()\n\u001b[0;32m      <a href='vscode-notebook-cell:/c%3A/Users/MSI-NB/Desktop/retrotest/code.ipynb#X12sZmlsZQ%3D%3D?line=5'>6</a>\u001b[0m time_sequence[\u001b[39m0\u001b[39m] \u001b[39m+\u001b[39m\u001b[39m=\u001b[39m c\n\u001b[1;32m----> <a href='vscode-notebook-cell:/c%3A/Users/MSI-NB/Desktop/retrotest/code.ipynb#X12sZmlsZQ%3D%3D?line=6'>7</a>\u001b[0m frequency_sequence_new \u001b[39m=\u001b[39m discrete_fourier_transform(time_sequence)\n\u001b[0;32m      <a href='vscode-notebook-cell:/c%3A/Users/MSI-NB/Desktop/retrotest/code.ipynb#X12sZmlsZQ%3D%3D?line=7'>8</a>\u001b[0m all_same \u001b[39m=\u001b[39m \u001b[39mall\u001b[39m(\u001b[39mabs\u001b[39m(frequency_sequence_new[i]\u001b[39m.\u001b[39mreal \u001b[39m-\u001b[39m frequency_sequence[i]\u001b[39m.\u001b[39mreal \u001b[39m-\u001b[39m c) \u001b[39m<\u001b[39m eps \u001b[39mfor\u001b[39;00m i \u001b[39min\u001b[39;00m \u001b[39mrange\u001b[39m(\u001b[39mlen\u001b[39m(frequency_sequence))) \n\u001b[0;32m      <a href='vscode-notebook-cell:/c%3A/Users/MSI-NB/Desktop/retrotest/code.ipynb#X12sZmlsZQ%3D%3D?line=8'>9</a>\u001b[0m \u001b[39massert\u001b[39;00m all_same\n",
      "\u001b[1;32mc:\\Users\\MSI-NB\\Desktop\\retrotest\\code.ipynb Cell 10\u001b[0m line \u001b[0;36m7\n\u001b[0;32m      <a href='vscode-notebook-cell:/c%3A/Users/MSI-NB/Desktop/retrotest/code.ipynb#X12sZmlsZQ%3D%3D?line=4'>5</a>\u001b[0m sequence_new \u001b[39m=\u001b[39m [\u001b[39m0\u001b[39m \u001b[39mfor\u001b[39;00m _ \u001b[39min\u001b[39;00m \u001b[39mrange\u001b[39m ( N )]\n\u001b[0;32m      <a href='vscode-notebook-cell:/c%3A/Users/MSI-NB/Desktop/retrotest/code.ipynb#X12sZmlsZQ%3D%3D?line=5'>6</a>\u001b[0m \u001b[39mfor\u001b[39;00m k \u001b[39min\u001b[39;00m \u001b[39mrange\u001b[39m (N):\n\u001b[1;32m----> <a href='vscode-notebook-cell:/c%3A/Users/MSI-NB/Desktop/retrotest/code.ipynb#X12sZmlsZQ%3D%3D?line=6'>7</a>\u001b[0m     \u001b[39mfor\u001b[39;00m n \u001b[39min\u001b[39;00m \u001b[39mrange\u001b[39m (N):\n\u001b[0;32m      <a href='vscode-notebook-cell:/c%3A/Users/MSI-NB/Desktop/retrotest/code.ipynb#X12sZmlsZQ%3D%3D?line=7'>8</a>\u001b[0m         sequence_new [k] \u001b[39m+\u001b[39m\u001b[39m=\u001b[39m sequence [n] \u001b[39m*\u001b[39m np\u001b[39m.\u001b[39mexp (opt \u001b[39m*\u001b[39m \u001b[39m-\u001b[39m\u001b[39m1\u001b[39mj \u001b[39m*\u001b[39m np\u001b[39m.\u001b[39mpi \u001b[39m/\u001b[39m N \u001b[39m*\u001b[39m k \u001b[39m*\u001b[39m n) \u001b[39m# Bug: should be -2j\u001b[39m\n\u001b[0;32m      <a href='vscode-notebook-cell:/c%3A/Users/MSI-NB/Desktop/retrotest/code.ipynb#X12sZmlsZQ%3D%3D?line=8'>9</a>\u001b[0m \u001b[39mif\u001b[39;00m(opt \u001b[39m==\u001b[39m \u001b[39m-\u001b[39m\u001b[39m1\u001b[39m):\n",
      "\u001b[1;31mKeyboardInterrupt\u001b[0m: "
     ]
    }
   ],
   "source": [
    "eps = 1e-10\n",
    "while True :\n",
    "    time_sequence = get_random_sequence() \n",
    "    frequency_sequence = discrete_fourier_transform(time_sequence)\n",
    "    c = random.random()\n",
    "    time_sequence[0] += c\n",
    "    frequency_sequence_new = discrete_fourier_transform(time_sequence)\n",
    "    all_same = all(abs(frequency_sequence_new[i].real - frequency_sequence[i].real - c) < eps for i in range(len(frequency_sequence))) \n",
    "    assert all_same"
   ]
  },
  {
   "cell_type": "markdown",
   "metadata": {},
   "source": [
    "# Listing 4: Retromorphic Testing\n",
    "\n",
    "The core idea of Retromorphic Testing is to add a forward or backward program, so that we can test a relation that is expected to hold for the original input and the backward program's output. Here, we use the inverse option of `discrete_fourier_transform` and validate that this function's inversed output equals the original input, which allows us to find the bug as well."
   ]
  },
  {
   "cell_type": "code",
   "execution_count": 9,
   "metadata": {},
   "outputs": [
    {
     "ename": "AssertionError",
     "evalue": "",
     "output_type": "error",
     "traceback": [
      "\u001b[1;31m---------------------------------------------------------------------------\u001b[0m",
      "\u001b[1;31mAssertionError\u001b[0m                            Traceback (most recent call last)",
      "\u001b[1;32mc:\\Users\\MSI-NB\\Desktop\\retrotest\\code.ipynb Cell 12\u001b[0m line \u001b[0;36m9\n\u001b[0;32m      <a href='vscode-notebook-cell:/c%3A/Users/MSI-NB/Desktop/retrotest/code.ipynb#X14sZmlsZQ%3D%3D?line=6'>7</a>\u001b[0m time_sequence_new \u001b[39m=\u001b[39m discrete_fourier_transform(frequency_sequence, \u001b[39m-\u001b[39m\u001b[39m1\u001b[39m)\n\u001b[0;32m      <a href='vscode-notebook-cell:/c%3A/Users/MSI-NB/Desktop/retrotest/code.ipynb#X14sZmlsZQ%3D%3D?line=7'>8</a>\u001b[0m all_same \u001b[39m=\u001b[39m \u001b[39mall\u001b[39m(\u001b[39mabs\u001b[39m(time_sequence_new[i]\u001b[39m.\u001b[39mreal \u001b[39m-\u001b[39m time_sequence[i]\u001b[39m.\u001b[39mreal) \u001b[39m<\u001b[39m eps \u001b[39mfor\u001b[39;00m i \u001b[39min\u001b[39;00m \u001b[39mrange\u001b[39m(\u001b[39mlen\u001b[39m(time_sequence))) \n\u001b[1;32m----> <a href='vscode-notebook-cell:/c%3A/Users/MSI-NB/Desktop/retrotest/code.ipynb#X14sZmlsZQ%3D%3D?line=8'>9</a>\u001b[0m \u001b[39massert\u001b[39;00m all_same\n\u001b[0;32m     <a href='vscode-notebook-cell:/c%3A/Users/MSI-NB/Desktop/retrotest/code.ipynb#X14sZmlsZQ%3D%3D?line=10'>11</a>\u001b[0m \u001b[39m#With Modification\u001b[39m\n\u001b[0;32m     <a href='vscode-notebook-cell:/c%3A/Users/MSI-NB/Desktop/retrotest/code.ipynb#X14sZmlsZQ%3D%3D?line=11'>12</a>\u001b[0m c \u001b[39m=\u001b[39m random\u001b[39m.\u001b[39mrandom()\n",
      "\u001b[1;31mAssertionError\u001b[0m: "
     ]
    }
   ],
   "source": [
    "eps = 1e-10\n",
    "while True:\n",
    "    time_sequence = get_random_sequence()\n",
    "    frequency_sequence = discrete_fourier_transform(time_sequence)\n",
    "    \n",
    "    #Without Modification\n",
    "    time_sequence_new = discrete_fourier_transform(frequency_sequence, -1)\n",
    "    all_same = all(abs(time_sequence_new[i].real - time_sequence[i].real) < eps for i in range(len(time_sequence))) \n",
    "    assert all_same\n",
    "    \n",
    "    #With Modification\n",
    "    c = random.random()\n",
    "    for i in range(len(frequency_sequence)):\n",
    "        frequency_sequence[i] += c\n",
    "    time_sequence_new = discrete_fourier_transform(frequency_sequence, -1)\n",
    "    all_same = all(abs(time_sequence_new[i].real - time_sequence[i].real) < eps for i in range(1, len(time_sequence)) and abs(time_sequence_new[0].real - time_sequence[0].real) < eps) \n",
    "    assert all_same"
   ]
  },
  {
   "cell_type": "markdown",
   "metadata": {},
   "source": [
    "# Section 4: Examples"
   ]
  },
  {
   "cell_type": "markdown",
   "metadata": {},
   "source": [
    "## Example 1: Interger Factorization"
   ]
  },
  {
   "cell_type": "markdown",
   "metadata": {},
   "source": [
    "In this example, we assume `pollards_rho` returns the factorization of a given interger and it is affected by a bug."
   ]
  },
  {
   "cell_type": "code",
   "execution_count": 10,
   "metadata": {},
   "outputs": [],
   "source": [
    "import random\n",
    "\n",
    "def gcd(a, b):\n",
    "    while b:\n",
    "        a, b = b, a % b\n",
    "    return a\n",
    "\n",
    "def pollards_rho(n):\n",
    "    if n == 1:\n",
    "        return []\n",
    "    if n % 2 == 0:\n",
    "        return [2] + pollards_rho(n // 2)\n",
    "    \n",
    "    def rho(x, c):\n",
    "        return (x * x + c) % n\n",
    "    \n",
    "    x = random.randint(1, n - 1)\n",
    "    y = x\n",
    "    c = random.randint(1, n - 1)\n",
    "    d = 1\n",
    "    while d <= 1:\n",
    "        x = rho(x, c)\n",
    "        y = rho(rho(y, c), c)\n",
    "        d = gcd(abs(x - y), x) # Bug: should be gcd(abs(x - y), n)\n",
    "    if d == n:\n",
    "        return [n]\n",
    "    else:\n",
    "        return pollards_rho(d) + pollards_rho(n // d)"
   ]
  },
  {
   "cell_type": "markdown",
   "metadata": {},
   "source": [
    "To realize a retromorphic testing technique, we multiply those given factors and check if it is the same as the input integer."
   ]
  },
  {
   "cell_type": "code",
   "execution_count": 11,
   "metadata": {},
   "outputs": [],
   "source": [
    "def get_random_integer():\n",
    "    return 12\n",
    "    '''\n",
    "    return random.randint(1,1000)\n",
    "    '''"
   ]
  },
  {
   "cell_type": "code",
   "execution_count": 16,
   "metadata": {},
   "outputs": [
    {
     "ename": "AssertionError",
     "evalue": "",
     "output_type": "error",
     "traceback": [
      "\u001b[1;31m---------------------------------------------------------------------------\u001b[0m",
      "\u001b[1;31mAssertionError\u001b[0m                            Traceback (most recent call last)",
      "\u001b[1;32mc:\\Users\\MSI-NB\\Desktop\\retrotest\\code.ipynb Cell 19\u001b[0m line \u001b[0;36m7\n\u001b[0;32m      <a href='vscode-notebook-cell:/c%3A/Users/MSI-NB/Desktop/retrotest/code.ipynb#X24sZmlsZQ%3D%3D?line=4'>5</a>\u001b[0m \u001b[39mfor\u001b[39;00m prime \u001b[39min\u001b[39;00m factors:\n\u001b[0;32m      <a href='vscode-notebook-cell:/c%3A/Users/MSI-NB/Desktop/retrotest/code.ipynb#X24sZmlsZQ%3D%3D?line=5'>6</a>\u001b[0m     result \u001b[39m*\u001b[39m\u001b[39m=\u001b[39m prime\n\u001b[1;32m----> <a href='vscode-notebook-cell:/c%3A/Users/MSI-NB/Desktop/retrotest/code.ipynb#X24sZmlsZQ%3D%3D?line=6'>7</a>\u001b[0m \u001b[39massert\u001b[39;00m(result \u001b[39m==\u001b[39m N)\n",
      "\u001b[1;31mAssertionError\u001b[0m: "
     ]
    }
   ],
   "source": [
    "while True:\n",
    "    N = get_random_integer()\n",
    "    factors = pollards_rho(N)\n",
    "    result = 1\n",
    "    for prime in factors:\n",
    "        result *= prime\n",
    "    assert(result == N)"
   ]
  },
  {
   "cell_type": "markdown",
   "metadata": {},
   "source": [
    "## Example 2: Infix, Prefix, and Postfix Transformation"
   ]
  },
  {
   "cell_type": "markdown",
   "metadata": {},
   "source": [
    "In this example, we assume prefix and postfix notation are implement in `string` format. The `postfix_to_prefix` and `prefix_to_postfix` and functions to transform notation between prefix and postfix. The function `postfix_to_prefix` is affected by a bug."
   ]
  },
  {
   "cell_type": "code",
   "execution_count": 13,
   "metadata": {},
   "outputs": [],
   "source": [
    "def is_operator(char):\n",
    "    return char in \"+-*/\"\n",
    "\n",
    "def postfix_to_prefix(postfix_expression):\n",
    "    stack = []\n",
    "    \n",
    "    for char in postfix_expression:\n",
    "        if char.isalnum(): \n",
    "            stack.append(char)\n",
    "        elif is_operator(char):\n",
    "            operand1 = stack.pop() \n",
    "            operand2 = stack.pop() # Bug: should swap operand1 and operand2\n",
    "            prefix = f\"{char}{operand1}{operand2}\"\n",
    "            stack.append(prefix)\n",
    "    \n",
    "    return stack[0]\n",
    "\n",
    "def prefix_to_postfix(prefix_expression):\n",
    "    stack = []\n",
    "\n",
    "    for char in reversed(prefix_expression):\n",
    "        if char.isalnum():  \n",
    "            stack.append(char)\n",
    "        elif is_operator(char):\n",
    "            operand1 = stack.pop()\n",
    "            operand2 = stack.pop()\n",
    "            postfix = f\"{operand1}{operand2}{char}\"\n",
    "            stack.append(postfix)\n",
    "\n",
    "    return stack[0]"
   ]
  },
  {
   "cell_type": "markdown",
   "metadata": {},
   "source": [
    "To realize a retromorphic testing technique, we transform a postfix notation to its prefix notation and convert it back. "
   ]
  },
  {
   "cell_type": "code",
   "execution_count": 14,
   "metadata": {},
   "outputs": [],
   "source": [
    "def get_random_postfix():\n",
    "    return '56a*+'"
   ]
  },
  {
   "cell_type": "code",
   "execution_count": 15,
   "metadata": {},
   "outputs": [
    {
     "ename": "AssertionError",
     "evalue": "",
     "output_type": "error",
     "traceback": [
      "\u001b[1;31m---------------------------------------------------------------------------\u001b[0m",
      "\u001b[1;31mAssertionError\u001b[0m                            Traceback (most recent call last)",
      "\u001b[1;32mc:\\Users\\MSI-NB\\Desktop\\retrotest\\code.ipynb Cell 25\u001b[0m line \u001b[0;36m3\n\u001b[0;32m      <a href='vscode-notebook-cell:/c%3A/Users/MSI-NB/Desktop/retrotest/code.ipynb#X33sZmlsZQ%3D%3D?line=0'>1</a>\u001b[0m \u001b[39mwhile\u001b[39;00m \u001b[39mTrue\u001b[39;00m:\n\u001b[0;32m      <a href='vscode-notebook-cell:/c%3A/Users/MSI-NB/Desktop/retrotest/code.ipynb#X33sZmlsZQ%3D%3D?line=1'>2</a>\u001b[0m     postfix_expression \u001b[39m=\u001b[39m get_random_postfix()\n\u001b[1;32m----> <a href='vscode-notebook-cell:/c%3A/Users/MSI-NB/Desktop/retrotest/code.ipynb#X33sZmlsZQ%3D%3D?line=2'>3</a>\u001b[0m     \u001b[39massert\u001b[39;00m(postfix_expression \u001b[39m==\u001b[39m prefix_to_postfix(postfix_to_prefix(postfix_expression)))\n",
      "\u001b[1;31mAssertionError\u001b[0m: "
     ]
    }
   ],
   "source": [
    "while True:\n",
    "    postfix_expression = get_random_postfix()\n",
    "    assert(postfix_expression == prefix_to_postfix(postfix_to_prefix(postfix_expression)))"
   ]
  },
  {
   "cell_type": "markdown",
   "metadata": {},
   "source": [
    "## Example 5: Machine Translation"
   ]
  },
  {
   "cell_type": "markdown",
   "metadata": {},
   "source": [
    "We are using Google translate api in this example\n",
    "\n",
    "M1 (The input English setnece): Mike will leave the bloc if Jack leaves the city.\n",
    "\n",
    "M2 (The output Chinese setnece): 如果杰克离开这座城市，迈克就会离开欧盟。\n",
    "\n",
    "M2' (The input Chinese setnece): 如果杰克离开这座城市，迈克就会离开欧盟。\n",
    "\n",
    "M1' (The output English setnece): Mike will leave the EU if Jack leaves the city."
   ]
  },
  {
   "cell_type": "code",
   "execution_count": null,
   "metadata": {},
   "outputs": [],
   "source": [
    "def translate_text(text, target_language = 'en'):\n",
    "    pass\n",
    "    # use your api to invoke google translate\n",
    "\n",
    "text_m1 = \"Mike will leave the bloc if Jack leaves the city.\"\n",
    "text_m2 = translate_text(text_m1, 'zh-cn')\n",
    "text_m1_ = translate_text(text_m2, 'en')\n",
    "\n",
    "\n"
   ]
  },
  {
   "cell_type": "markdown",
   "metadata": {},
   "source": [
    "## Example 6: Image captioning and generation"
   ]
  },
  {
   "cell_type": "markdown",
   "metadata": {},
   "source": [
    "We are using DALL-E2 as the Image generation system and Microsoft Azure Cognitive Services api for Image caption.\n",
    "\n",
    "M1 (The input discription): We are looking up at the underside of an airplane.\n",
    "\n",
    "M2 (The output image):\n",
    "\n",
    "<img src=\"image/m2.jpg\" alt=\"Alt Text\" width=\"250\" height=\"250\">\n",
    "\n",
    "M2' (The filtered image): \n",
    "\n",
    "<img src=\"image/m2-filter.jpg\" alt=\"Alt Text\" width=\"250\" height=\"250\">\n",
    "\n",
    "M1' (The output caption): A close-up of a white cylinder. "
   ]
  },
  {
   "cell_type": "markdown",
   "metadata": {},
   "source": [
    "We use the following code to invoke the Microsoft Azure Cognitive Services to caption the filtered image, you can reproduce the result by filling your own subscription key"
   ]
  },
  {
   "cell_type": "code",
   "execution_count": null,
   "metadata": {},
   "outputs": [],
   "source": [
    "from azure.cognitiveservices.vision.computervision import ComputerVisionClient\n",
    "from msrest.authentication import CognitiveServicesCredentials\n",
    "\n",
    "class AzureI2C:\n",
    "    def Image2Caption_url(self, image_url):\n",
    "        '''\n",
    "        Return text caption generated from the image_url.\n",
    "        '''     \n",
    "        subscription_key = \"\" # please fill it by your key\n",
    "        endpoint = \"https://compvisionresourcing.cognitiveservices.azure.com/\"\n",
    "        computervision_client = ComputerVisionClient(\n",
    "            endpoint, CognitiveServicesCredentials(subscription_key))\n",
    "\n",
    "        description_results = computervision_client.describe_image(image_url)\n",
    "        if (len(description_results.captions) == 0):\n",
    "           image_caption = \"No description detected.\"\n",
    "        else:\n",
    "            image_caption = description_results.captions[0].text\n",
    "        return image_caption\n",
    "\n",
    "    def Image2Caption_path(self, image_path):\n",
    "        '''\n",
    "        Return text caption generated from the image_path.\n",
    "        '''\n",
    "        subscription_key = \"\" # please fill it by your key\n",
    "        endpoint = \"https://compvisionresourcing.cognitiveservices.azure.com/\"\n",
    "        computervision_client = ComputerVisionClient(\n",
    "            endpoint, CognitiveServicesCredentials(subscription_key))\n",
    "\n",
    "        with open(image_path, \"rb\") as image:\n",
    "            description_results = computervision_client.describe_image_in_stream(image)\n",
    "        if (len(description_results.captions) == 0):\n",
    "            image_caption = \"No description detected.\"\n",
    "        else:\n",
    "            image_caption = description_results.captions[0].text\n",
    "        return image_caption\n",
    "\n",
    "def unit_testing():\n",
    "    Tester = AzureI2C()\n",
    "    caption = Tester.Image2Caption_path(\"./image/m2-filter.jpg\")\n",
    "    print(caption)\n",
    "\n",
    "if __name__ == \"__main__\":\n",
    "    unit_testing()"
   ]
  }
 ],
 "metadata": {
  "kernelspec": {
   "display_name": "Python 3",
   "language": "python",
   "name": "python3"
  },
  "language_info": {
   "codemirror_mode": {
    "name": "ipython",
    "version": 3
   },
   "file_extension": ".py",
   "mimetype": "text/x-python",
   "name": "python",
   "nbconvert_exporter": "python",
   "pygments_lexer": "ipython3",
   "version": "3.10.8"
  },
  "orig_nbformat": 4
 },
 "nbformat": 4,
 "nbformat_minor": 2
}
